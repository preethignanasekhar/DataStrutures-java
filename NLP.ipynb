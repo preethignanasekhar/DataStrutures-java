{
  "nbformat": 4,
  "nbformat_minor": 0,
  "metadata": {
    "colab": {
      "provenance": [],
      "include_colab_link": true
    },
    "kernelspec": {
      "name": "python3",
      "display_name": "Python 3"
    },
    "language_info": {
      "name": "python"
    }
  },
  "cells": [
    {
      "cell_type": "markdown",
      "metadata": {
        "id": "view-in-github",
        "colab_type": "text"
      },
      "source": [
        "<a href=\"https://colab.research.google.com/github/preethignanasekhar/DataStrutures-java/blob/main/NLP.ipynb\" target=\"_parent\"><img src=\"https://colab.research.google.com/assets/colab-badge.svg\" alt=\"Open In Colab\"/></a>"
      ]
    },
    {
      "cell_type": "code",
      "execution_count": null,
      "metadata": {
        "id": "g0RIoNXl8C65",
        "outputId": "37e28b29-f0dc-4d3f-d66a-2c463da09093",
        "colab": {
          "base_uri": "https://localhost:8080/"
        }
      },
      "outputs": [
        {
          "output_type": "stream",
          "name": "stdout",
          "text": [
            "Accuracy: 1.0\n",
            "Classification Report:\n",
            "              precision    recall  f1-score   support\n",
            "\n",
            "    non-spam       1.00      1.00      1.00         1\n",
            "        spam       1.00      1.00      1.00         1\n",
            "\n",
            "    accuracy                           1.00         2\n",
            "   macro avg       1.00      1.00      1.00         2\n",
            "weighted avg       1.00      1.00      1.00         2\n",
            "\n"
          ]
        }
      ],
      "source": [
        " import numpy as np\n",
        "from sklearn.model_selection import train_test_split\n",
        "from sklearn.feature_extraction.text import CountVectorizer\n",
        "from sklearn.naive_bayes import MultinomialNB\n",
        "from sklearn.metrics import accuracy_score, classification_report\n",
        "\n",
        "# Sample email data (replace with your dataset)\n",
        "emails = [\n",
        "    (\"Buy Viagra now, discount price!\", \"spam\"),\n",
        "    (\"Meeting scheduled for tomorrow\", \"non-spam\"),\n",
        "    (\"Claim your prize money now!\", \"spam\"),\n",
        "    (\"Don't forget about our meeting tomorrow\", \"non-spam\"),\n",
        "    (\"Get rich quick, guaranteed!\", \"spam\"),\n",
        "    (\"Reminder: Meeting tomorrow at 10 AM\", \"non-spam\")\n",
        "]\n",
        "\n",
        "# Separate data and labels\n",
        "X = np.array([email[0] for email in emails])\n",
        "y = np.array([email[1] for email in emails])\n",
        "\n",
        "# Split data into training and testing sets\n",
        "X_train, X_test, y_train, y_test = train_test_split(X, y, test_size=0.2, random_state=42)\n",
        "\n",
        "# Create a bag of words representation of the text data\n",
        "vectorizer = CountVectorizer()\n",
        "X_train_vec = vectorizer.fit_transform(X_train)\n",
        "X_test_vec = vectorizer.transform(X_test)\n",
        "\n",
        "# Train Naive Bayes classifier\n",
        "classifier = MultinomialNB()\n",
        "classifier.fit(X_train_vec, y_train)\n",
        "\n",
        "# Predict on test data\n",
        "predictions = classifier.predict(X_test_vec)\n",
        "\n",
        "# Evaluate performance\n",
        "accuracy = accuracy_score(y_test, predictions)\n",
        "print(\"Accuracy:\", accuracy)\n",
        "print(\"Classification Report:\")\n",
        "print(classification_report(y_test, predictions))\n"
      ]
    }
  ]
}